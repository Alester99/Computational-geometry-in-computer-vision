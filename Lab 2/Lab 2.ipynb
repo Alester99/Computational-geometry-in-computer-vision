{
 "cells": [
  {
   "cell_type": "code",
   "execution_count": 1,
   "id": "ee7e5adc",
   "metadata": {},
   "outputs": [],
   "source": [
    "import cv2, math, matplotlib.pyplot as plt, numpy as np"
   ]
  },
  {
   "cell_type": "markdown",
   "id": "38384f61",
   "metadata": {},
   "source": [
    "# Proximity between cell labels\n",
    "Cоседство между метками ячеек"
   ]
  },
  {
   "cell_type": "code",
   "execution_count": 72,
   "id": "7c657bca",
   "metadata": {},
   "outputs": [
    {
     "data": {
      "text/plain": [
       "1"
      ]
     },
     "execution_count": 72,
     "metadata": {},
     "output_type": "execute_result"
    }
   ],
   "source": [
    "mas = np.array([\n",
    "    [1,2,3],\n",
    "    [8,0,4],\n",
    "    [7,6,5]\n",
    "])\n",
    "\n",
    "\n",
    "indices = [[i[0],j[0]] for i,j in [np.where(mas == k) for k in [k for k in range(1,9)]]]\n",
    "\n",
    "L_1_1 = np.array([\n",
    "    [False,False,False],\n",
    "    [False,2,False],\n",
    "    [False,False,False]\n",
    "])\n",
    "\n",
    "L_1_2 = np.array([\n",
    "    [True,False,True],\n",
    "    [True,2,True],\n",
    "    [True,True,True]\n",
    "])\n",
    "\n",
    "L_1_3 = np.array([\n",
    "    [False,False,False],\n",
    "    [False,2,False],\n",
    "    [False,False,False]\n",
    "])\n",
    "\n",
    "L = np.stack((L_1_1,L_1_2,L_1_3))\n",
    "\n",
    "\n",
    "# mas_ = np.zeros((3,3))\n",
    "# mas_[0,0]\n",
    "\n",
    "\n",
    "\n",
    "# [i,j = np.where(mas == k) for k in range (1,9)]\n",
    "#for k in range (1,9):\n",
    "    \n",
    "\n",
    "#     for c in n:\n",
    "#             for v in c:\n",
    "#                 a,b = v\n",
    "#                 if a == 2 and b == 2:continue\n",
    "#                 if (0 <= i+a and i+a <= self.image.max_i) and (0 <= j+b and j+b <= self.image.max_j):\n",
    "#                     self.neighbours = np.vstack((self.neighbours,[i+a,j+b]))\n",
    "#         self.neighbours = np.delete(self.neighbours,0, axis = 0) \n",
    "    "
   ]
  },
  {
   "cell_type": "code",
   "execution_count": 73,
   "id": "0d1ca5bc",
   "metadata": {},
   "outputs": [
    {
     "data": {
      "text/plain": [
       "array([[[0, 0, 0],\n",
       "        [0, 2, 0],\n",
       "        [0, 0, 0]],\n",
       "\n",
       "       [[1, 0, 1],\n",
       "        [1, 2, 1],\n",
       "        [1, 1, 1]],\n",
       "\n",
       "       [[0, 0, 0],\n",
       "        [0, 2, 0],\n",
       "        [0, 0, 0]]])"
      ]
     },
     "execution_count": 73,
     "metadata": {},
     "output_type": "execute_result"
    }
   ],
   "source": [
    "L"
   ]
  },
  {
   "cell_type": "code",
   "execution_count": 75,
   "id": "4b5576c4",
   "metadata": {},
   "outputs": [
    {
     "data": {
      "text/plain": [
       "2"
      ]
     },
     "execution_count": 75,
     "metadata": {},
     "output_type": "execute_result"
    }
   ],
   "source": [
    "L[2,1,1]"
   ]
  },
  {
   "cell_type": "markdown",
   "id": "d641d4fc",
   "metadata": {},
   "source": [
    "# Image and its data\n",
    "Изображение и его данные"
   ]
  },
  {
   "cell_type": "code",
   "execution_count": 10,
   "id": "b119fc74",
   "metadata": {},
   "outputs": [],
   "source": [
    "class Image(object):\n",
    "    def __init__(self, path):\n",
    "        self.img = cv2.imread(path, cv2.IMREAD_UNCHANGED)\n",
    "        print('Original Dimensions : ',self.img.shape)\n",
    "        self.max_i, self.max_j, _ = self.img.shape\n",
    "        \n",
    "    # Resize image size\n",
    "    # Изменить размер изображения\n",
    "    def resize (self):\n",
    "        width = 300\n",
    "        height = 600\n",
    "        dim = (height,width)\n",
    "        \n",
    "        self.max_i = height\n",
    "        self.max_j = width\n",
    "\n",
    "        # resize image\n",
    "        self.reimg = cv2.resize(self.img, dim, interpolation = cv2.INTER_AREA)\n",
    "        print('Resized Dimensions : ', self.reimg.shape)\n",
    "        "
   ]
  },
  {
   "cell_type": "code",
   "execution_count": 11,
   "id": "bf69cb7c",
   "metadata": {},
   "outputs": [
    {
     "name": "stdout",
     "output_type": "stream",
     "text": [
      "Original Dimensions :  (380, 605, 3)\n"
     ]
    }
   ],
   "source": [
    "i = 1\n",
    "path = f\"./img/img{i}.jpg\"\n",
    "img = Image(path)"
   ]
  },
  {
   "cell_type": "markdown",
   "id": "72929c2a",
   "metadata": {},
   "source": [
    "# Normal distribution for part of the image\n",
    "Нормальное распределение для части изображения\n",
    "\n"
   ]
  },
  {
   "cell_type": "code",
   "execution_count": 29,
   "id": "74cecbc8",
   "metadata": {},
   "outputs": [],
   "source": [
    "class Normal_distribution (object):   \n",
    "    def __init__(self, image):\n",
    "        self.data = self.M_σ(image.img)\n",
    "    def M_σ(self,image):\n",
    "        mas = np.array(image[0])\n",
    "        for i in range(1,len(image)):\n",
    "            np.vstack((mas,image[i]))\n",
    "        image_n = mas\n",
    "        mean = np.mean(image_n,axis=0); sigma=np.var(image_n,axis=0); cov = np.cov(mas,rowvar=False)\n",
    "        print('DATA','\\n','M = ',mean,'\\n','σ = ',sigma,'\\n', 'cov = ','\\n',cov)\n",
    "        return [mean,cov]"
   ]
  },
  {
   "cell_type": "code",
   "execution_count": 30,
   "id": "1ba1d17d",
   "metadata": {},
   "outputs": [
    {
     "name": "stdout",
     "output_type": "stream",
     "text": [
      "DATA \n",
      " M =  [195.19504132 130.09090909  57.21983471] \n",
      " σ =  [ 42.33220682  69.09090909 187.00125948] \n",
      " cov =  \n",
      " [[ 42.40229325  53.49879591  87.29314487]\n",
      " [ 53.49879591  69.20529801 112.89720048]\n",
      " [ 87.29314487 112.89720048 187.31086421]]\n"
     ]
    }
   ],
   "source": [
    "normal_distribution = Normal_distribution(img)"
   ]
  },
  {
   "cell_type": "markdown",
   "id": "ac6728e1",
   "metadata": {},
   "source": [
    "# Cell and its neighbors\n",
    "Ячейка и ее соседи"
   ]
  },
  {
   "cell_type": "code",
   "execution_count": 17,
   "id": "d8b2ed64",
   "metadata": {},
   "outputs": [
    {
     "data": {
      "text/plain": [
       "array([[ 99,  99],\n",
       "       [100,  99],\n",
       "       [101,  99],\n",
       "       [ 99, 100],\n",
       "       [101, 100],\n",
       "       [ 99, 101],\n",
       "       [100, 101],\n",
       "       [101, 101]])"
      ]
     },
     "execution_count": 17,
     "metadata": {},
     "output_type": "execute_result"
    }
   ],
   "source": [
    "class Сell(object):\n",
    "    def __init__(self,image, i, j):\n",
    "        self.image = image \n",
    "        self.i = i\n",
    "        self.j = j\n",
    "        self.find_neighbours(i,j)\n",
    "        \n",
    "    # Find neighbors of a cell in an image  \n",
    "    # Найти соседей яейки изображения\n",
    "    def find_neighbours(self,i,j):\n",
    "        self.neighbours = np.array([[0,0]])\n",
    "        n = np.array([\n",
    "            [(-1,-1),(0,-1),(1,-1)],\n",
    "            [(-1,0),(2,2),(1,0)],\n",
    "            [(-1,1),(0,1),(1,1)]\n",
    "        ])\n",
    "        for c in n:\n",
    "            for v in c:\n",
    "                a,b = v\n",
    "                if a == 2 and b == 2:continue\n",
    "                if (0 <= i+a and i+a <= self.image.max_i) and (0 <= j+b and j+b <= self.image.max_j):\n",
    "                    self.neighbours = np.vstack((self.neighbours,[i+a,j+b]))\n",
    "        self.neighbours = np.delete(self.neighbours,0, axis = 0) \n",
    "        \n",
    "#     def __del__(self):\n",
    "#         del self.image\n",
    "#         del self.i\n",
    "#         del self.j\n",
    "#         del self.neighbours\n",
    "        \n",
    "                    \n",
    "A = Сell(img,100,100)\n",
    "A.neighbours  "
   ]
  },
  {
   "cell_type": "code",
   "execution_count": 20,
   "id": "eb8539ec",
   "metadata": {},
   "outputs": [
    {
     "data": {
      "text/plain": [
       "array([[1, 0],\n",
       "       [0, 1],\n",
       "       [1, 1]])"
      ]
     },
     "execution_count": 20,
     "metadata": {},
     "output_type": "execute_result"
    }
   ],
   "source": [
    "cell = Сell(img,0,0)\n",
    "cell.neighbours "
   ]
  },
  {
   "cell_type": "markdown",
   "id": "fd1fefae",
   "metadata": {},
   "source": [
    "# Some tests and usefull info\n",
    "Немного тестов и полезной информации\n"
   ]
  },
  {
   "cell_type": "code",
   "execution_count": null,
   "id": "c07d32b2",
   "metadata": {},
   "outputs": [],
   "source": [
    "# class Foo(Bar):\n",
    "#     def baz(self, arg):\n",
    "#         return super().baz(arg)\n",
    "\n",
    "\n",
    "# class A(object):     # deriving from 'object' declares A as a 'new-style-class'\n",
    "#     def foo(self):\n",
    "#         print \"foo\"\n",
    "\n",
    "# class B(A):\n",
    "#     def foo(self):\n",
    "#         super(B, self).foo()   # calls 'A.foo()'\n",
    "\n",
    "# myB = B()\n",
    "# myB.foo()\n",
    "\n",
    "class A():\n",
    "  def bar(self, string):\n",
    "    print(\"Hi, I'm bar, inherited from A\"+string)\n",
    "\n",
    "class B(A):\n",
    "  def baz(self):\n",
    "    self.bar(\" - called by baz in B\")\n",
    "\n",
    "B().baz() # prints out \"Hi, I'm bar, inherited from A - called by baz in B\"\n",
    "\n",
    "#https://younglinux.info/oopython/objects\n",
    "class B:\n",
    "    n = 5\n",
    "    def adder(self, v):\n",
    "        return v + self.n\n",
    " \n",
    "w = B()\n",
    "w.__dict__\n",
    "w.n = 8\n",
    "w.__dict__\n",
    "\n",
    "w.__dict__['m'] = 100\n",
    "w.__dict__\n",
    "w.m\n",
    "w.__dict__"
   ]
  },
  {
   "cell_type": "code",
   "execution_count": 15,
   "id": "f4d84eb2",
   "metadata": {},
   "outputs": [
    {
     "name": "stdout",
     "output_type": "stream",
     "text": [
      "Total: 1210\n"
     ]
    }
   ],
   "source": [
    "class Salary(object):\n",
    "    def __init__(self, pay):\n",
    "        self.pay = pay\n",
    "\n",
    "    def getTotal(self):\n",
    "        return (self.pay * 12)\n",
    "\n",
    "class Employee(object):\n",
    "    def __init__(self, pay, bonus):\n",
    "        self.pay = pay\n",
    "        self.bonus = bonus\n",
    "\n",
    "    def annualSalary(self):\n",
    "        return \"Total: \" + str(self.pay.getTotal() + self.bonus)\n",
    "\n",
    "salary = Salary(100)\n",
    "employee = Employee(salary, 10)\n",
    "print(employee.annualSalary())"
   ]
  },
  {
   "cell_type": "code",
   "execution_count": 2,
   "id": "fd6d6322",
   "metadata": {},
   "outputs": [],
   "source": [
    "mas_1 = np.array([\n",
    "    [0,0,0],\n",
    "    [0,1,0],\n",
    "    [0,0,0]\n",
    "])\n",
    "mas_2 = np.array([\n",
    "    [0,0,0],\n",
    "    [0,1,0],\n",
    "    [0,0,0]\n",
    "])"
   ]
  },
  {
   "cell_type": "code",
   "execution_count": 3,
   "id": "e4eb3b8b",
   "metadata": {},
   "outputs": [],
   "source": [
    "i,j = [(0,1),(2,0)][0]"
   ]
  },
  {
   "cell_type": "code",
   "execution_count": 47,
   "id": "a42b1aa3",
   "metadata": {},
   "outputs": [
    {
     "data": {
      "text/plain": [
       "(3, 3, 2)"
      ]
     },
     "execution_count": 47,
     "metadata": {},
     "output_type": "execute_result"
    }
   ],
   "source": [
    "neighbours = np.array([\n",
    "    [(-1,-1),(0,-1),(1,-1)],\n",
    "    [(-1,0),(2,2),(1,0)],\n",
    "    [(-1,1),(0,1),(1,1)]\n",
    "])\n",
    "neighbours.shape"
   ]
  },
  {
   "cell_type": "code",
   "execution_count": 5,
   "id": "021b4f79",
   "metadata": {},
   "outputs": [
    {
     "name": "stdout",
     "output_type": "stream",
     "text": [
      "-1 -1\n",
      "0 -1\n",
      "1 -1\n",
      "-1 0\n",
      "1 0\n",
      "-1 1\n",
      "0 1\n",
      "1 1\n"
     ]
    }
   ],
   "source": [
    "for i in neighbours:\n",
    "    for j in i:\n",
    "        a,b = j\n",
    "        if a == 2 and b == 2:continue\n",
    "        print(a,b)"
   ]
  }
 ],
 "metadata": {
  "kernelspec": {
   "display_name": "Python 3 (ipykernel)",
   "language": "python",
   "name": "python3"
  },
  "language_info": {
   "codemirror_mode": {
    "name": "ipython",
    "version": 3
   },
   "file_extension": ".py",
   "mimetype": "text/x-python",
   "name": "python",
   "nbconvert_exporter": "python",
   "pygments_lexer": "ipython3",
   "version": "3.9.7"
  }
 },
 "nbformat": 4,
 "nbformat_minor": 5
}
